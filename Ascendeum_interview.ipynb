{
 "cells": [
  {
   "cell_type": "code",
   "execution_count": 18,
   "id": "d67a7b10",
   "metadata": {},
   "outputs": [],
   "source": [
    "def spiral_matrix(n):\n",
    "    matrix=[[0]*n for _ in range(n)]\n",
    "    num=1\n",
    "    left,top=0,0\n",
    "    right,bottom=n-1,n-1\n",
    "    \n",
    "    while(top<=bottom and left<=right):\n",
    "        ## fill top row value\n",
    "        for i in range(left,right+1):\n",
    "            matrix[top][i]=num\n",
    "            num+=1\n",
    "        top+=1\n",
    "\n",
    "        ## fill the right column\n",
    "        for i in range(top,bottom+1):\n",
    "            matrix[i][right]=num\n",
    "            num+=1\n",
    "        right-=1\n",
    "\n",
    "        ## fill the bottom row\n",
    "        for i in range(right,left-1,-1):\n",
    "            matrix[bottom][i]=num\n",
    "            num+=1\n",
    "        bottom-=1\n",
    "\n",
    "        ## fill the left column\n",
    "        for i in range(bottom,top-1,-1):\n",
    "            matrix[i][left]=num\n",
    "            num+=1\n",
    "        left+=1\n",
    "    return matrix"
   ]
  },
  {
   "cell_type": "code",
   "execution_count": 36,
   "id": "b3b5c135",
   "metadata": {},
   "outputs": [
    {
     "data": {
      "text/plain": [
       "[[1, 2, 3, 4, 5],\n",
       " [16, 17, 18, 19, 6],\n",
       " [15, 24, 25, 20, 7],\n",
       " [14, 23, 22, 21, 8],\n",
       " [13, 12, 11, 10, 9]]"
      ]
     },
     "execution_count": 36,
     "metadata": {},
     "output_type": "execute_result"
    }
   ],
   "source": [
    "spiral_matrix(5)"
   ]
  },
  {
   "cell_type": "code",
   "execution_count": 37,
   "id": "da0d872b",
   "metadata": {},
   "outputs": [
    {
     "data": {
      "text/plain": [
       "[[1, 2, 3, 4, 5, 6, 7],\n",
       " [24, 25, 26, 27, 28, 29, 8],\n",
       " [23, 40, 41, 42, 43, 30, 9],\n",
       " [22, 39, 48, 49, 44, 31, 10],\n",
       " [21, 38, 47, 46, 45, 32, 11],\n",
       " [20, 37, 36, 35, 34, 33, 12],\n",
       " [19, 18, 17, 16, 15, 14, 13]]"
      ]
     },
     "execution_count": 37,
     "metadata": {},
     "output_type": "execute_result"
    }
   ],
   "source": [
    "spiral_matrix(7)"
   ]
  },
  {
   "cell_type": "code",
   "execution_count": null,
   "id": "72cc71d2",
   "metadata": {},
   "outputs": [],
   "source": []
  }
 ],
 "metadata": {
  "kernelspec": {
   "display_name": "Python 3 (ipykernel)",
   "language": "python",
   "name": "python3"
  },
  "language_info": {
   "codemirror_mode": {
    "name": "ipython",
    "version": 3
   },
   "file_extension": ".py",
   "mimetype": "text/x-python",
   "name": "python",
   "nbconvert_exporter": "python",
   "pygments_lexer": "ipython3",
   "version": "3.9.18"
  }
 },
 "nbformat": 4,
 "nbformat_minor": 5
}
